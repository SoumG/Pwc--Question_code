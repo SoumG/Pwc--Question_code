{
  "nbformat": 4,
  "nbformat_minor": 0,
  "metadata": {
    "colab": {
      "provenance": []
    },
    "kernelspec": {
      "name": "python3",
      "display_name": "Python 3"
    },
    "language_info": {
      "name": "python"
    }
  },
  "cells": [
    {
      "cell_type": "markdown",
      "source": [
        "Move Zeroes\n",
        "Given an integer array nums, move all 0's to the end of it while maintaining the relative order of the non-zero elements.\n",
        "\n",
        "Note that you must do this in-place without making a copy of the array.\n",
        "\n",
        "\n",
        "This is formatted as code\n",
        "\n",
        "\n",
        "\n",
        "\n",
        "Example 1:\n",
        "Input: nums = [0,1,0,3,12]\n",
        "Output: [1,3,12,0,0] **bold text**"
      ],
      "metadata": {
        "id": "qOA0z0iJAbRq"
      }
    },
    {
      "cell_type": "code",
      "source": [
        "def move(nums):\n",
        "  # Initialize a pointer to keep track of the position to insert non-zero elements\n",
        "  pos = 0\n",
        "  # Iterate through the array\n",
        "  for i in nums:\n",
        "        if i != 0:\n",
        "            # If the current element is non-zero, move it to the insert position\n",
        "            num[pos] = i\n",
        "            pos += 1\n",
        "\n",
        "  # Fill the remaining positions with zeroes\n",
        "  while pos < len(nums):\n",
        "      nums[pos] = 0\n",
        "      pos += 1\n",
        "\n",
        "  return nums\n",
        "\n",
        "# Example usage\n",
        "num = [0, 1, 0, 3, 12]\n",
        "result = move(nums)\n",
        "print(result)\n",
        "\n"
      ],
      "metadata": {
        "colab": {
          "base_uri": "https://localhost:8080/"
        },
        "id": "ipte6OVmAmkz",
        "outputId": "bd59fbb1-d655-407b-bf2d-7c1a579112ec"
      },
      "execution_count": 13,
      "outputs": [
        {
          "output_type": "stream",
          "name": "stdout",
          "text": [
            "[1, 3, 12, 3, 12]\n"
          ]
        }
      ]
    },
    {
      "cell_type": "code",
      "source": [
        "# Example 2:\n",
        "Input: num = [0]\n",
        "Output: [0]"
      ],
      "metadata": {
        "id": "lW-UgBLeBwDz"
      },
      "execution_count": 14,
      "outputs": []
    }
  ]
}