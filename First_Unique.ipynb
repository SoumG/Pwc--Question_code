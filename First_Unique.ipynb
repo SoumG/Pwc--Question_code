{
  "nbformat": 4,
  "nbformat_minor": 0,
  "metadata": {
    "colab": {
      "provenance": [],
      "authorship_tag": "ABX9TyNoukDHqiLOG3OwQrtQtw0+",
      "include_colab_link": true
    },
    "kernelspec": {
      "name": "python3",
      "display_name": "Python 3"
    },
    "language_info": {
      "name": "python"
    }
  },
  "cells": [
    {
      "cell_type": "markdown",
      "metadata": {
        "id": "view-in-github",
        "colab_type": "text"
      },
      "source": [
        "<a href=\"https://colab.research.google.com/github/SoumG/Pwc--Question_code/blob/main/First_Unique.ipynb\" target=\"_parent\"><img src=\"https://colab.research.google.com/assets/colab-badge.svg\" alt=\"Open In Colab\"/></a>"
      ]
    },
    {
      "cell_type": "markdown",
      "source": [
        "First Unique Character in a String\n",
        "\n",
        "Given a string s, find the first non-repeating character in it and return its index. If it does not exist, return -1."
      ],
      "metadata": {
        "id": "SYphe_MkHSuC"
      }
    },
    {
      "cell_type": "markdown",
      "source": [],
      "metadata": {
        "id": "6pP23xj-HSJk"
      }
    },
    {
      "cell_type": "markdown",
      "source": [],
      "metadata": {
        "id": "jfJQ6mWMHM7T"
      }
    },
    {
      "cell_type": "code",
      "source": [
        "from collections import Counter\n",
        "\n",
        "def firstUniqChar(s):\n",
        "    \"\"\"\n",
        "    Finds the index of the first non-repeating character in the string.\n",
        "    Returns -1 if no such character exists.\n",
        "    \"\"\"\n",
        "    # Count the occurrences of each character in the string\n",
        "    char_count = Counter(s)\n",
        "\n",
        "    # Iterate through the string to find the first non-repeating character\n",
        "    for i, char in enumerate(s):\n",
        "        if char_count[char] == 1:\n",
        "            return i\n",
        "\n",
        "    # If no non-repeating character is found, return -1\n",
        "    return -1\n",
        "\n",
        "# Example usage\n",
        "s = \"leetcode\"\n",
        "result = firstUniqChar(s)\n",
        "print('Ouput :',result)\n",
        "\n",
        "# Example Usage\n",
        "\n",
        "# Example 2:\n",
        "\n",
        "s = \"loveleetcode\"\n",
        "result = firstUniqChar(s)\n",
        "print('Output :',result)\n",
        "\n",
        "\n",
        "# Example usage\n",
        "s=  \"aabb\"\n",
        "result = firstUniqChar(s)\n",
        "print('Output : ',result)\n"
      ],
      "metadata": {
        "colab": {
          "base_uri": "https://localhost:8080/"
        },
        "id": "3c708CNxHOFu",
        "outputId": "0d79688e-1a3b-45f3-928f-2beeb9544167"
      },
      "execution_count": 11,
      "outputs": [
        {
          "output_type": "stream",
          "name": "stdout",
          "text": [
            "Ouput : 0\n",
            "Output : 2\n",
            "Output :  -1\n"
          ]
        }
      ]
    },
    {
      "cell_type": "code",
      "source": [],
      "metadata": {
        "id": "T9FY5TosIWwD"
      },
      "execution_count": 11,
      "outputs": []
    },
    {
      "cell_type": "markdown",
      "source": [],
      "metadata": {
        "id": "6jOg-mvGIIeS"
      }
    },
    {
      "cell_type": "code",
      "source": [],
      "metadata": {
        "id": "uXZSNDVRHkCL"
      },
      "execution_count": 11,
      "outputs": []
    },
    {
      "cell_type": "markdown",
      "source": [],
      "metadata": {
        "id": "YFverywrHP1i"
      }
    }
  ]
}